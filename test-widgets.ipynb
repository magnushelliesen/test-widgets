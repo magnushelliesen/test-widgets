{
 "cells": [
  {
   "cell_type": "code",
   "execution_count": 1,
   "metadata": {},
   "outputs": [],
   "source": [
    "# Written by: Magnus Helliesen\n",
    "\n",
    "import numpy as np\n",
    "import matplotlib.pyplot as plt\n",
    "from ipywidgets import interact, IntSlider, Dropdown\n",
    "%matplotlib inline"
   ]
  },
  {
   "attachments": {},
   "cell_type": "markdown",
   "metadata": {},
   "source": [
    "# First order Taylor-approximation of $x^n$ around $x_0$\n",
    "\n",
    "Plotting $x^N$ for $x=-25,-24,\\ldots,25$ along with the first order (linear) Taylor-approximation $x_0^n+nx_0^{n-1}(x-x_0)$. $n$ is chosen from drop-down menu, $x_0$ is chosen with slider."
   ]
  },
  {
   "cell_type": "code",
   "execution_count": 2,
   "metadata": {},
   "outputs": [
    {
     "data": {
      "application/vnd.jupyter.widget-view+json": {
       "model_id": "ac636c5cd7db440b9cc58baeaed2cbb7",
       "version_major": 2,
       "version_minor": 0
      },
      "text/plain": [
       "interactive(children=(Dropdown(description='n', index=1, options=(1, 2, 3, 4, 5, 6, 7, 8, 9), value=2), IntSli…"
      ]
     },
     "metadata": {},
     "output_type": "display_data"
    }
   ],
   "source": [
    "@interact(n=Dropdown(options=list(range(1,10)), value=2), x_0=IntSlider(min=-25, max=25, step=1, value=1))\n",
    "def plott(n, x_0):\n",
    "    # Setup x and y for plotting\n",
    "    x = np.array(list(range(-25,25,1)), dtype=np.float64)\n",
    "    y = np.array(x**n, dtype=np.float64)\n",
    "    \n",
    "    # Calculating Taylor approximation\n",
    "    f_prime_x0 = n*x_0**(n-1)\n",
    "    y_approx = x_0**n+f_prime_x0*(x-x_0)\n",
    "    \n",
    "    # Plotting function and approximation\n",
    "    plt.figure(figsize=(10,10))\n",
    "    plt.plot(x, y, color='blue')\n",
    "    plt.plot(x, y_approx, color='red')\n",
    "    plt.show()"
   ]
  }
 ],
 "metadata": {
  "kernelspec": {
   "display_name": "Python 3.9.12 64-bit",
   "language": "python",
   "name": "python3"
  },
  "language_info": {
   "codemirror_mode": {
    "name": "ipython",
    "version": 3
   },
   "file_extension": ".py",
   "mimetype": "text/x-python",
   "name": "python",
   "nbconvert_exporter": "python",
   "pygments_lexer": "ipython3",
   "version": "3.9.12"
  },
  "orig_nbformat": 4,
  "vscode": {
   "interpreter": {
    "hash": "36cf16204b8548560b1c020c4e8fb5b57f0e4c58016f52f2d4be01e192833930"
   }
  }
 },
 "nbformat": 4,
 "nbformat_minor": 2
}
